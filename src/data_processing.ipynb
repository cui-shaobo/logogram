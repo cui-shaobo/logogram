{
 "cells": [
  {
   "cell_type": "markdown",
   "metadata": {},
   "source": [
    "# Data Processing"
   ]
  },
  {
   "cell_type": "code",
   "execution_count": 1,
   "metadata": {},
   "outputs": [],
   "source": [
    "import os\n",
    "import pandas as pd\n",
    "import sys\n",
    "sys.path.append('../')"
   ]
  },
  {
   "cell_type": "code",
   "execution_count": 2,
   "metadata": {},
   "outputs": [],
   "source": [
    "%load_ext autoreload\n",
    "%autoreload 2"
   ]
  },
  {
   "cell_type": "code",
   "execution_count": 3,
   "metadata": {},
   "outputs": [],
   "source": [
    "# Directory path of the raw_data folder\n",
    "directory = '../raw-data/acl_anthology/'\n",
    "\n",
    "# List to store the dataframes for each JSON file\n",
    "dataframes = []\n",
    "\n",
    "# Recursively iterate over all subdirectories and files within the directory\n",
    "for root, _, files in os.walk(directory):\n",
    "    for file in files:\n",
    "        if file.endswith('.jsonl'):  # Only process JSON files\n",
    "            file_path = os.path.join(root, file)\n",
    "            dataframe = pd.read_json(file_path, lines=True)\n",
    "            dataframes.append(dataframe)\n",
    "\n",
    "# Concatenate all dataframes into a single dataframe\n",
    "combined_dataframe = pd.concat(dataframes, ignore_index=True)"
   ]
  },
  {
   "cell_type": "code",
   "execution_count": 4,
   "metadata": {},
   "outputs": [
    {
     "data": {
      "text/html": [
       "<div>\n",
       "<style scoped>\n",
       "    .dataframe tbody tr th:only-of-type {\n",
       "        vertical-align: middle;\n",
       "    }\n",
       "\n",
       "    .dataframe tbody tr th {\n",
       "        vertical-align: top;\n",
       "    }\n",
       "\n",
       "    .dataframe thead th {\n",
       "        text-align: right;\n",
       "    }\n",
       "</style>\n",
       "<table border=\"1\" class=\"dataframe\">\n",
       "  <thead>\n",
       "    <tr style=\"text-align: right;\">\n",
       "      <th></th>\n",
       "      <th>Year</th>\n",
       "      <th>Venue</th>\n",
       "      <th>Acronym</th>\n",
       "      <th>Description</th>\n",
       "      <th>Abstract</th>\n",
       "      <th>Heading</th>\n",
       "    </tr>\n",
       "  </thead>\n",
       "  <tbody>\n",
       "    <tr>\n",
       "      <th>0</th>\n",
       "      <td>2003</td>\n",
       "      <td>iwpt-2003</td>\n",
       "      <td>Supertagging</td>\n",
       "      <td>A Non-Statistical Parsing-Based Approach</td>\n",
       "      <td>We present a novel approach to supertagging w....</td>\n",
       "      <td>Supertagging: A Non-Statistical Parsing-Based ...</td>\n",
       "    </tr>\n",
       "    <tr>\n",
       "      <th>1</th>\n",
       "      <td>2020</td>\n",
       "      <td>iwltp-2020</td>\n",
       "      <td>CoBiLiRo</td>\n",
       "      <td>A Research Platform for Bimodal Corpora</td>\n",
       "      <td>This paper describes the on-going work carried...</td>\n",
       "      <td>CoBiLiRo: A Research Platform for Bimodal Corpora</td>\n",
       "    </tr>\n",
       "    <tr>\n",
       "      <th>2</th>\n",
       "      <td>2020</td>\n",
       "      <td>iwltp-2020</td>\n",
       "      <td>CLARIN</td>\n",
       "      <td>Distributed Language Resources and Technology ...</td>\n",
       "      <td>CLARIN is a European Research Infrastructure p...</td>\n",
       "      <td>CLARIN: Distributed Language Resources and Tec...</td>\n",
       "    </tr>\n",
       "    <tr>\n",
       "      <th>3</th>\n",
       "      <td>2020</td>\n",
       "      <td>iwltp-2020</td>\n",
       "      <td>ELRI</td>\n",
       "      <td>A Decentralised Network of National Relay Stat...</td>\n",
       "      <td>We describe the European Language Resource Inf...</td>\n",
       "      <td>ELRI: A Decentralised Network of National Rela...</td>\n",
       "    </tr>\n",
       "    <tr>\n",
       "      <th>4</th>\n",
       "      <td>2020</td>\n",
       "      <td>iwltp-2020</td>\n",
       "      <td>Eco.pangeamt</td>\n",
       "      <td>Industrializing Neural MT</td>\n",
       "      <td>Eco is Pangeanic’s customer portal for generic...</td>\n",
       "      <td>Eco.pangeamt: Industrializing Neural MT</td>\n",
       "    </tr>\n",
       "  </tbody>\n",
       "</table>\n",
       "</div>"
      ],
      "text/plain": [
       "   Year       Venue       Acronym  \\\n",
       "0  2003   iwpt-2003  Supertagging   \n",
       "1  2020  iwltp-2020      CoBiLiRo   \n",
       "2  2020  iwltp-2020        CLARIN   \n",
       "3  2020  iwltp-2020          ELRI   \n",
       "4  2020  iwltp-2020  Eco.pangeamt   \n",
       "\n",
       "                                         Description  \\\n",
       "0           A Non-Statistical Parsing-Based Approach   \n",
       "1            A Research Platform for Bimodal Corpora   \n",
       "2  Distributed Language Resources and Technology ...   \n",
       "3  A Decentralised Network of National Relay Stat...   \n",
       "4                          Industrializing Neural MT   \n",
       "\n",
       "                                            Abstract  \\\n",
       "0  We present a novel approach to supertagging w....   \n",
       "1  This paper describes the on-going work carried...   \n",
       "2  CLARIN is a European Research Infrastructure p...   \n",
       "3  We describe the European Language Resource Inf...   \n",
       "4  Eco is Pangeanic’s customer portal for generic...   \n",
       "\n",
       "                                             Heading  \n",
       "0  Supertagging: A Non-Statistical Parsing-Based ...  \n",
       "1  CoBiLiRo: A Research Platform for Bimodal Corpora  \n",
       "2  CLARIN: Distributed Language Resources and Tec...  \n",
       "3  ELRI: A Decentralised Network of National Rela...  \n",
       "4            Eco.pangeamt: Industrializing Neural MT  "
      ]
     },
     "execution_count": 4,
     "metadata": {},
     "output_type": "execute_result"
    }
   ],
   "source": [
    "combined_dataframe.head()"
   ]
  },
  {
   "cell_type": "code",
   "execution_count": 5,
   "metadata": {},
   "outputs": [
    {
     "data": {
      "text/plain": [
       "38784"
      ]
     },
     "execution_count": 5,
     "metadata": {},
     "output_type": "execute_result"
    }
   ],
   "source": [
    "len(combined_dataframe)"
   ]
  },
  {
   "cell_type": "markdown",
   "metadata": {},
   "source": [
    "## Data Cleaning"
   ]
  },
  {
   "cell_type": "code",
   "execution_count": 6,
   "metadata": {},
   "outputs": [
    {
     "name": "stdout",
     "output_type": "stream",
     "text": [
      "21449\n",
      "7616\n",
      "6864\n"
     ]
    },
    {
     "name": "stdout",
     "output_type": "stream",
     "text": [
      "6803\n"
     ]
    }
   ],
   "source": [
    "single_word_combined_dataframe = combined_dataframe\n",
    "\n",
    "# replace all newline characters with spaces, and all \"-\\n\" with empty string\n",
    "single_word_combined_dataframe[\"Abstract\"] = single_word_combined_dataframe[\"Abstract\"].apply(lambda x: x.replace(\"-\\n\", \"\"))\n",
    "single_word_combined_dataframe[\"Abstract\"] = single_word_combined_dataframe[\"Abstract\"].apply(lambda x: x.replace(\"\\n\", \" \"))\n",
    "single_word_combined_dataframe[\"Description\"] = single_word_combined_dataframe[\"Description\"].apply(lambda x: x.replace(\"-\\n\", \"\"))\n",
    "single_word_combined_dataframe[\"Description\"] = single_word_combined_dataframe[\"Description\"].apply(lambda x: x.replace(\"\\n\", \" \"))\n",
    "\n",
    "# remove rows where the Description column contains colon\n",
    "single_word_combined_dataframe = single_word_combined_dataframe[~single_word_combined_dataframe.Description.str.contains(\":\")]\n",
    "\n",
    "# strip whitespace from all string columns\n",
    "single_word_combined_dataframe = single_word_combined_dataframe.apply(lambda x: x.str.strip() if x.dtype == \"object\" else x)\n",
    "\n",
    "# drop duplicates and rows with missing values\n",
    "single_word_combined_dataframe = single_word_combined_dataframe.drop_duplicates(subset=['Acronym', 'Description', 'Abstract'])\n",
    "single_word_combined_dataframe = single_word_combined_dataframe.dropna()\n",
    "# also drop rows where the string columns are empty\n",
    "single_word_combined_dataframe = single_word_combined_dataframe[(single_word_combined_dataframe != '').all(axis=1)]\n",
    "print(len(single_word_combined_dataframe))\n",
    "\n",
    "### Special processing for the Acronym column ###\n",
    "\n",
    "# replace underscores with spaces in the Acronym column\n",
    "single_word_combined_dataframe[\"Acronym\"] = single_word_combined_dataframe[\"Acronym\"].apply(lambda x: x.replace(\"_\", \" \"))\n",
    "\n",
    "# remove rows where the Acronym column contains more than one word\n",
    "single_word_combined_dataframe = single_word_combined_dataframe[single_word_combined_dataframe.Acronym.str.split().apply(len)==1]\n",
    "print(len(single_word_combined_dataframe))\n",
    "\n",
    "# remove rows where the Acronym column contains characters other than letters and - (hyphen)\n",
    "single_word_combined_dataframe = single_word_combined_dataframe[single_word_combined_dataframe.Acronym.str.match(r'^[a-zA-Z-]+$')]\n",
    "print(len(single_word_combined_dataframe))\n",
    "\n",
    "### Special processing for the Abstract column ###\n",
    "\n",
    "# replace the first \"abstract\" string with empty string in the Abstract column.\n",
    "single_word_combined_dataframe[\"Abstract\"] = single_word_combined_dataframe[\"Abstract\"].apply(lambda x: x.replace(\"Abstract\", \"\"))\n",
    "\n",
    "# remove strings after the last period in the Abstract column\n",
    "single_word_combined_dataframe[\"Abstract\"] = single_word_combined_dataframe[\"Abstract\"].apply(lambda x: x[:x.rfind(\".\")]+\".\")\n",
    "\n",
    "# if it is not English, remove the row\n",
    "from langdetect import detect, DetectorFactory\n",
    "DetectorFactory.seed = 0\n",
    "single_word_combined_dataframe = single_word_combined_dataframe[single_word_combined_dataframe.Abstract.apply(lambda x: detect(x) == \"en\")]\n",
    "print(len(single_word_combined_dataframe))\n",
    "\n",
    "# strip whitespace from all string columns\n",
    "single_word_combined_dataframe = single_word_combined_dataframe.apply(lambda x: x.str.strip() if x.dtype == \"object\" else x)\n",
    "\n",
    "single_word_combined_dataframe.reset_index(drop=True, inplace=True)"
   ]
  },
  {
   "cell_type": "markdown",
   "metadata": {},
   "source": [
    "## Outlier Detection"
   ]
  },
  {
   "cell_type": "code",
   "execution_count": null,
   "metadata": {},
   "outputs": [],
   "source": [
    "import matplotlib.pyplot as plt\n",
    "%matplotlib inline\n",
    "\n",
    "from transformers import AutoTokenizer\n",
    "tokenizer = AutoTokenizer.from_pretrained(\"t5-base\")"
   ]
  },
  {
   "cell_type": "code",
   "execution_count": 8,
   "metadata": {},
   "outputs": [
    {
     "name": "stderr",
     "output_type": "stream",
     "text": [
      "Token indices sequence length is longer than the specified maximum sequence length for this model (552 > 512). Running this sequence through the model will result in indexing errors\n"
     ]
    }
   ],
   "source": [
    "# Get distributions of token lengths in acronyms, Descriptions, and abstracts\n",
    "\n",
    "normalized_combined_dataframe = single_word_combined_dataframe\n",
    "normalized_combined_dataframe[\"acronym_tok_len\"] = normalized_combined_dataframe[\"Acronym\"].apply(lambda x: len(tokenizer.tokenize(x)))   # tok level\n",
    "normalized_combined_dataframe[\"acronym_len\"] = normalized_combined_dataframe[\"Acronym\"].apply(lambda x: len(x))   # char level\n",
    "normalized_combined_dataframe[\"description_tok_len\"] = normalized_combined_dataframe[\"Description\"].apply(lambda x: len(tokenizer.tokenize(x)))   # tok level\n",
    "normalized_combined_dataframe[\"abstract_tok_len\"] = normalized_combined_dataframe[\"Abstract\"].apply(lambda x: len(tokenizer.tokenize(x)))   # tok level\n",
    "normalized_combined_dataframe[\"total_len\"] = normalized_combined_dataframe[\"acronym_len\"] + normalized_combined_dataframe[\"description_tok_len\"] + normalized_combined_dataframe[\"abstract_tok_len\"]"
   ]
  },
  {
   "cell_type": "code",
   "execution_count": 9,
   "metadata": {},
   "outputs": [
    {
     "name": "stdout",
     "output_type": "stream",
     "text": [
      "6653\n"
     ]
    }
   ],
   "source": [
    "# Remove outliers that are more than 3 standard deviations away from the mean\n",
    "normalized_combined_dataframe = normalized_combined_dataframe[(normalized_combined_dataframe[\"acronym_len\"] < normalized_combined_dataframe[\"acronym_len\"].mean() + 3 * normalized_combined_dataframe[\"acronym_len\"].std()) & (normalized_combined_dataframe[\"acronym_len\"] > normalized_combined_dataframe[\"acronym_len\"].mean() - 3 * normalized_combined_dataframe[\"acronym_len\"].std())]\n",
    "normalized_combined_dataframe = normalized_combined_dataframe[(normalized_combined_dataframe[\"description_tok_len\"] < normalized_combined_dataframe[\"description_tok_len\"].mean() + 3 * normalized_combined_dataframe[\"description_tok_len\"].std()) & (normalized_combined_dataframe[\"description_tok_len\"] > normalized_combined_dataframe[\"description_tok_len\"].mean() - 3 * normalized_combined_dataframe[\"description_tok_len\"].std())]\n",
    "normalized_combined_dataframe = normalized_combined_dataframe[(normalized_combined_dataframe[\"abstract_tok_len\"] < normalized_combined_dataframe[\"abstract_tok_len\"].mean() + 3 * normalized_combined_dataframe[\"abstract_tok_len\"].std()) & (normalized_combined_dataframe[\"abstract_tok_len\"] > normalized_combined_dataframe[\"abstract_tok_len\"].mean() - 3 * normalized_combined_dataframe[\"abstract_tok_len\"].std())]\n",
    "\n",
    "print(len(normalized_combined_dataframe))"
   ]
  },
  {
   "cell_type": "code",
   "execution_count": 10,
   "metadata": {},
   "outputs": [
    {
     "data": {
      "image/png": "[encoded data removed]",
      "text/plain": [
       "<Figure size 2000x500 with 5 Axes>"
      ]
     },
     "metadata": {},
     "output_type": "display_data"
    }
   ],
   "source": [
    "# plot the distributions\n",
    "\n",
    "fig, ax = plt.subplots(1, 5, figsize=(20, 5))\n",
    "ax[0].hist(normalized_combined_dataframe[\"acronym_tok_len\"], bins=11)\n",
    "ax[0].set_title(\"Acronym Token Length\")\n",
    "ax[1].hist(normalized_combined_dataframe[\"acronym_len\"])\n",
    "ax[1].set_title(\"Acronym Character Length\")\n",
    "ax[2].hist(normalized_combined_dataframe[\"description_tok_len\"])\n",
    "ax[2].set_title(\"Description Token Length\")\n",
    "ax[3].hist(normalized_combined_dataframe[\"abstract_tok_len\"])\n",
    "ax[3].set_title(\"Abstract Token Length\")\n",
    "ax[4].hist(normalized_combined_dataframe[\"total_len\"])\n",
    "ax[4].set_title(\"Total Length\")\n",
    "plt.show()"
   ]
  },
  {
   "cell_type": "markdown",
   "metadata": {},
   "source": [
    "## Replace acronyms in the abstract with mask token"
   ]
  },
  {
   "cell_type": "code",
   "execution_count": 11,
   "metadata": {},
   "outputs": [],
   "source": [
    "import re\n",
    "\n",
    "def replace_with_mask(s):\n",
    "    s[\"Abstract\"] = s[\"Abstract\"].replace(s[\"Acronym\"], \"<MASKED_ACRONYM>\")\n",
    "    return s[\"Abstract\"]\n",
    "        \n",
    "\n",
    "masked_single_word_combined_dataframe = normalized_combined_dataframe\n",
    "masked_single_word_combined_dataframe[\"Abstract\"] = masked_single_word_combined_dataframe.apply(replace_with_mask, axis=1)"
   ]
  },
  {
   "cell_type": "markdown",
   "metadata": {},
   "source": [
    "## Distribution of metrics of original short-title"
   ]
  },
  {
   "cell_type": "code",
   "execution_count": 12,
   "metadata": {},
   "outputs": [],
   "source": [
    "from metrics.wordlikeness.wordlikeness import WordLikeness\n",
    "from metrics.lcsratio.lcsratio import LCSRatio\n",
    "from metrics.wordcoverage.wordcoverage import WordCoverage"
   ]
  },
  {
   "cell_type": "code",
   "execution_count": 13,
   "metadata": {},
   "outputs": [],
   "source": [
    "wordlikeness = WordLikeness()\n",
    "lcsratio = LCSRatio()\n",
    "wordcoverage = WordCoverage()"
   ]
  },
  {
   "cell_type": "code",
   "execution_count": 14,
   "metadata": {},
   "outputs": [],
   "source": [
    "def calculate_metrics(s):\n",
    "    s[\"wordlikeness\"] = wordlikeness.compute_score({0: [s.Description]}, {0: [s.Acronym]})[0]\n",
    "    s[\"lcsratio\"] = lcsratio.compute_score({0: [s.Description]}, {0: [s.Acronym]})[0]\n",
    "    s[\"wordcoverage\"] = wordcoverage.compute_score({0: [s.Description]}, {0: [s.Acronym]})[0]\n",
    "    return s"
   ]
  },
  {
   "cell_type": "code",
   "execution_count": 15,
   "metadata": {},
   "outputs": [],
   "source": [
    "masked_single_word_combined_dataframe = masked_single_word_combined_dataframe.apply(calculate_metrics, axis=1)"
   ]
  },
  {
   "cell_type": "code",
   "execution_count": 16,
   "metadata": {},
   "outputs": [
    {
     "data": {
      "text/plain": [
       "count    6653.000000\n",
       "mean        0.675265\n",
       "std         0.207710\n",
       "min         0.100000\n",
       "25%         0.555556\n",
       "50%         0.714286\n",
       "75%         0.818182\n",
       "max         1.000000\n",
       "Name: wordlikeness, dtype: float64"
      ]
     },
     "execution_count": 16,
     "metadata": {},
     "output_type": "execute_result"
    }
   ],
   "source": [
    "masked_single_word_combined_dataframe.wordlikeness.describe()"
   ]
  },
  {
   "cell_type": "code",
   "execution_count": 17,
   "metadata": {},
   "outputs": [
    {
     "data": {
      "text/plain": [
       "<Axes: >"
      ]
     },
     "execution_count": 17,
     "metadata": {},
     "output_type": "execute_result"
    },
    {
     "data": {
      "image/png": "[encoded data removed]",
      "text/plain": [
       "<Figure size 640x480 with 1 Axes>"
      ]
     },
     "metadata": {},
     "output_type": "display_data"
    }
   ],
   "source": [
    "masked_single_word_combined_dataframe.wordlikeness.hist(bins=20)"
   ]
  },
  {
   "cell_type": "code",
   "execution_count": 18,
   "metadata": {},
   "outputs": [
    {
     "data": {
      "text/plain": [
       "count    6653.000000\n",
       "mean        0.839174\n",
       "std         0.172080\n",
       "min         0.000000\n",
       "25%         0.714286\n",
       "50%         0.857143\n",
       "75%         1.000000\n",
       "max         1.000000\n",
       "Name: lcsratio, dtype: float64"
      ]
     },
     "execution_count": 18,
     "metadata": {},
     "output_type": "execute_result"
    }
   ],
   "source": [
    "masked_single_word_combined_dataframe.lcsratio.describe()"
   ]
  },
  {
   "cell_type": "code",
   "execution_count": 19,
   "metadata": {},
   "outputs": [
    {
     "data": {
      "text/plain": [
       "<Axes: >"
      ]
     },
     "execution_count": 19,
     "metadata": {},
     "output_type": "execute_result"
    },
    {
     "data": {
      "image/png": "[encoded data removed]",
      "text/plain": [
       "<Figure size 640x480 with 1 Axes>"
      ]
     },
     "metadata": {},
     "output_type": "display_data"
    }
   ],
   "source": [
    "masked_single_word_combined_dataframe.lcsratio.hist(bins=20)"
   ]
  },
  {
   "cell_type": "code",
   "execution_count": 20,
   "metadata": {},
   "outputs": [
    {
     "data": {
      "text/plain": [
       "count    6653.000000\n",
       "mean        0.795754\n",
       "std         0.105701\n",
       "min         0.526316\n",
       "25%         0.727273\n",
       "50%         0.800000\n",
       "75%         0.857143\n",
       "max         1.000000\n",
       "Name: wordcoverage, dtype: float64"
      ]
     },
     "execution_count": 20,
     "metadata": {},
     "output_type": "execute_result"
    }
   ],
   "source": [
    "masked_single_word_combined_dataframe.wordcoverage.describe()"
   ]
  },
  {
   "cell_type": "code",
   "execution_count": 21,
   "metadata": {},
   "outputs": [
    {
     "data": {
      "text/plain": [
       "<Axes: >"
      ]
     },
     "execution_count": 21,
     "metadata": {},
     "output_type": "execute_result"
    },
    {
     "data": {
      "image/png": "[encoded data removed]",
      "text/plain": [
       "<Figure size 640x480 with 1 Axes>"
      ]
     },
     "metadata": {},
     "output_type": "display_data"
    }
   ],
   "source": [
    "masked_single_word_combined_dataframe.wordcoverage.hist(bins=20)"
   ]
  },
  {
   "cell_type": "code",
   "execution_count": 22,
   "metadata": {},
   "outputs": [
    {
     "data": {
      "image/png": "[encoded data removed]",
      "text/plain": [
       "<Figure size 640x480 with 1 Axes>"
      ]
     },
     "metadata": {},
     "output_type": "display_data"
    }
   ],
   "source": [
    "# draw kde plot, x-axis ranges from 0 to 1\n",
    "import seaborn as sns\n",
    "import matplotlib.pyplot as plt\n",
    "sns.kdeplot(masked_single_word_combined_dataframe.lcsratio, fill=True, bw_adjust=2)\n",
    "sns.kdeplot(masked_single_word_combined_dataframe.wordlikeness, fill=True, bw_adjust=2)\n",
    "sns.kdeplot(masked_single_word_combined_dataframe.wordcoverage, fill=True, bw_adjust=2)\n",
    "plt.xlim(0, 1)\n",
    "plt.legend([\"LCSRatio\", \"WordLikeness\", \"WordOverlap\"], loc=\"upper left\")\n",
    "plt.xlabel(\"Metric score\")\n",
    "plt.show()"
   ]
  },
  {
   "cell_type": "code",
   "execution_count": 23,
   "metadata": {},
   "outputs": [],
   "source": [
    "filtered_dataframe = masked_single_word_combined_dataframe[(masked_single_word_combined_dataframe.wordcoverage >= 0.818182) & (masked_single_word_combined_dataframe.lcsratio == 1) & (masked_single_word_combined_dataframe.wordlikeness >= 0.857143)].reset_index(drop=True)"
   ]
  },
  {
   "cell_type": "code",
   "execution_count": 24,
   "metadata": {},
   "outputs": [
    {
     "data": {
      "text/html": [
       "<div>\n",
       "<style scoped>\n",
       "    .dataframe tbody tr th:only-of-type {\n",
       "        vertical-align: middle;\n",
       "    }\n",
       "\n",
       "    .dataframe tbody tr th {\n",
       "        vertical-align: top;\n",
       "    }\n",
       "\n",
       "    .dataframe thead th {\n",
       "        text-align: right;\n",
       "    }\n",
       "</style>\n",
       "<table border=\"1\" class=\"dataframe\">\n",
       "  <thead>\n",
       "    <tr style=\"text-align: right;\">\n",
       "      <th></th>\n",
       "      <th>Year</th>\n",
       "      <th>Venue</th>\n",
       "      <th>Acronym</th>\n",
       "      <th>Description</th>\n",
       "      <th>Abstract</th>\n",
       "      <th>Heading</th>\n",
       "      <th>acronym_tok_len</th>\n",
       "      <th>acronym_len</th>\n",
       "      <th>description_tok_len</th>\n",
       "      <th>abstract_tok_len</th>\n",
       "      <th>total_len</th>\n",
       "      <th>wordlikeness</th>\n",
       "      <th>lcsratio</th>\n",
       "      <th>wordcoverage</th>\n",
       "    </tr>\n",
       "  </thead>\n",
       "  <tbody>\n",
       "    <tr>\n",
       "      <th>0</th>\n",
       "      <td>2023</td>\n",
       "      <td>syntaxfest-2023</td>\n",
       "      <td>ICON</td>\n",
       "      <td>Building a Large-Scale Benchmark Constituency ...</td>\n",
       "      <td>Constituency parsing is an important task of i...</td>\n",
       "      <td>ICON: Building a Large-Scale Benchmark Constit...</td>\n",
       "      <td>2</td>\n",
       "      <td>4</td>\n",
       "      <td>19</td>\n",
       "      <td>234</td>\n",
       "      <td>257</td>\n",
       "      <td>1.000000</td>\n",
       "      <td>1.0</td>\n",
       "      <td>1.000000</td>\n",
       "    </tr>\n",
       "    <tr>\n",
       "      <th>1</th>\n",
       "      <td>2014</td>\n",
       "      <td>bea-2014</td>\n",
       "      <td>ArCADE</td>\n",
       "      <td>An Arabic Corpus of Auditory Dictation Errors</td>\n",
       "      <td>We present a new corpus of word-level listenin...</td>\n",
       "      <td>ArCADE: An Arabic Corpus of Auditory Dictation...</td>\n",
       "      <td>3</td>\n",
       "      <td>6</td>\n",
       "      <td>14</td>\n",
       "      <td>129</td>\n",
       "      <td>149</td>\n",
       "      <td>1.000000</td>\n",
       "      <td>1.0</td>\n",
       "      <td>1.000000</td>\n",
       "    </tr>\n",
       "    <tr>\n",
       "      <th>2</th>\n",
       "      <td>2007</td>\n",
       "      <td>acl-2007</td>\n",
       "      <td>PERSONAGE</td>\n",
       "      <td>Personality Generation for Dialogue</td>\n",
       "      <td>Over the last ﬁfty years, the “Big Five” model...</td>\n",
       "      <td>PERSONAGE: Personality Generation for Dialogue</td>\n",
       "      <td>4</td>\n",
       "      <td>9</td>\n",
       "      <td>6</td>\n",
       "      <td>162</td>\n",
       "      <td>177</td>\n",
       "      <td>0.888889</td>\n",
       "      <td>1.0</td>\n",
       "      <td>0.875000</td>\n",
       "    </tr>\n",
       "    <tr>\n",
       "      <th>3</th>\n",
       "      <td>2012</td>\n",
       "      <td>acl-2012</td>\n",
       "      <td>PORT</td>\n",
       "      <td>a Precision-Order-Recall MT Evaluation Metric ...</td>\n",
       "      <td>Many machine translation (MT) evaluation  metr...</td>\n",
       "      <td>PORT: a Precision-Order-Recall MT Evaluation M...</td>\n",
       "      <td>2</td>\n",
       "      <td>4</td>\n",
       "      <td>17</td>\n",
       "      <td>240</td>\n",
       "      <td>261</td>\n",
       "      <td>1.000000</td>\n",
       "      <td>1.0</td>\n",
       "      <td>1.000000</td>\n",
       "    </tr>\n",
       "    <tr>\n",
       "      <th>4</th>\n",
       "      <td>2012</td>\n",
       "      <td>acl-2012</td>\n",
       "      <td>FLOW</td>\n",
       "      <td>A First-Language-Oriented Writing Assistant Sy...</td>\n",
       "      <td>Writing in English might be one of the most  d...</td>\n",
       "      <td>FLOW: A First-Language-Oriented Writing Assist...</td>\n",
       "      <td>2</td>\n",
       "      <td>4</td>\n",
       "      <td>14</td>\n",
       "      <td>110</td>\n",
       "      <td>128</td>\n",
       "      <td>1.000000</td>\n",
       "      <td>1.0</td>\n",
       "      <td>1.000000</td>\n",
       "    </tr>\n",
       "    <tr>\n",
       "      <th>...</th>\n",
       "      <td>...</td>\n",
       "      <td>...</td>\n",
       "      <td>...</td>\n",
       "      <td>...</td>\n",
       "      <td>...</td>\n",
       "      <td>...</td>\n",
       "      <td>...</td>\n",
       "      <td>...</td>\n",
       "      <td>...</td>\n",
       "      <td>...</td>\n",
       "      <td>...</td>\n",
       "      <td>...</td>\n",
       "      <td>...</td>\n",
       "      <td>...</td>\n",
       "    </tr>\n",
       "    <tr>\n",
       "      <th>465</th>\n",
       "      <td>2022</td>\n",
       "      <td>acl-2022</td>\n",
       "      <td>ePiC</td>\n",
       "      <td>Employing Proverbs in Context as a Benchmark f...</td>\n",
       "      <td>While large language models have shown excitin...</td>\n",
       "      <td>ePiC: Employing Proverbs in Context as a Bench...</td>\n",
       "      <td>5</td>\n",
       "      <td>4</td>\n",
       "      <td>17</td>\n",
       "      <td>176</td>\n",
       "      <td>197</td>\n",
       "      <td>1.000000</td>\n",
       "      <td>1.0</td>\n",
       "      <td>1.000000</td>\n",
       "    </tr>\n",
       "    <tr>\n",
       "      <th>466</th>\n",
       "      <td>2022</td>\n",
       "      <td>acl-2022</td>\n",
       "      <td>SPoT</td>\n",
       "      <td>Better Frozen Model Adaptation through Soft Pr...</td>\n",
       "      <td>There has been growing interest in parameter-e...</td>\n",
       "      <td>SPoT: Better Frozen Model Adaptation through S...</td>\n",
       "      <td>3</td>\n",
       "      <td>4</td>\n",
       "      <td>14</td>\n",
       "      <td>277</td>\n",
       "      <td>295</td>\n",
       "      <td>1.000000</td>\n",
       "      <td>1.0</td>\n",
       "      <td>1.000000</td>\n",
       "    </tr>\n",
       "    <tr>\n",
       "      <th>467</th>\n",
       "      <td>2022</td>\n",
       "      <td>acl-2022</td>\n",
       "      <td>RoMe</td>\n",
       "      <td>A Robust Metric for Evaluating Natural Languag...</td>\n",
       "      <td>Evaluating Natural Language Generation (NLG) s...</td>\n",
       "      <td>RoMe: A Robust Metric for Evaluating Natural L...</td>\n",
       "      <td>3</td>\n",
       "      <td>4</td>\n",
       "      <td>13</td>\n",
       "      <td>232</td>\n",
       "      <td>249</td>\n",
       "      <td>1.000000</td>\n",
       "      <td>1.0</td>\n",
       "      <td>1.000000</td>\n",
       "    </tr>\n",
       "    <tr>\n",
       "      <th>468</th>\n",
       "      <td>2022</td>\n",
       "      <td>acl-2022</td>\n",
       "      <td>ASPECTNEWS</td>\n",
       "      <td>Aspect-Oriented Summarization of News Documents</td>\n",
       "      <td>Generic summaries try to cover an entire docum...</td>\n",
       "      <td>ASPECTNEWS: Aspect-Oriented Summarization of N...</td>\n",
       "      <td>5</td>\n",
       "      <td>10</td>\n",
       "      <td>13</td>\n",
       "      <td>264</td>\n",
       "      <td>287</td>\n",
       "      <td>0.900000</td>\n",
       "      <td>1.0</td>\n",
       "      <td>0.823529</td>\n",
       "    </tr>\n",
       "    <tr>\n",
       "      <th>469</th>\n",
       "      <td>2022</td>\n",
       "      <td>acl-2022</td>\n",
       "      <td>PARE</td>\n",
       "      <td>A Simple and Strong Baseline for Monolingual a...</td>\n",
       "      <td>Neural models for distantly supervised relatio...</td>\n",
       "      <td>PARE: A Simple and Strong Baseline for Monolin...</td>\n",
       "      <td>2</td>\n",
       "      <td>4</td>\n",
       "      <td>21</td>\n",
       "      <td>191</td>\n",
       "      <td>216</td>\n",
       "      <td>1.000000</td>\n",
       "      <td>1.0</td>\n",
       "      <td>0.888889</td>\n",
       "    </tr>\n",
       "  </tbody>\n",
       "</table>\n",
       "<p>470 rows × 14 columns</p>\n",
       "</div>"
      ],
      "text/plain": [
       "     Year            Venue     Acronym  \\\n",
       "0    2023  syntaxfest-2023        ICON   \n",
       "1    2014         bea-2014      ArCADE   \n",
       "2    2007         acl-2007   PERSONAGE   \n",
       "3    2012         acl-2012        PORT   \n",
       "4    2012         acl-2012        FLOW   \n",
       "..    ...              ...         ...   \n",
       "465  2022         acl-2022        ePiC   \n",
       "466  2022         acl-2022        SPoT   \n",
       "467  2022         acl-2022        RoMe   \n",
       "468  2022         acl-2022  ASPECTNEWS   \n",
       "469  2022         acl-2022        PARE   \n",
       "\n",
       "                                           Description  \\\n",
       "0    Building a Large-Scale Benchmark Constituency ...   \n",
       "1        An Arabic Corpus of Auditory Dictation Errors   \n",
       "2                  Personality Generation for Dialogue   \n",
       "3    a Precision-Order-Recall MT Evaluation Metric ...   \n",
       "4    A First-Language-Oriented Writing Assistant Sy...   \n",
       "..                                                 ...   \n",
       "465  Employing Proverbs in Context as a Benchmark f...   \n",
       "466  Better Frozen Model Adaptation through Soft Pr...   \n",
       "467  A Robust Metric for Evaluating Natural Languag...   \n",
       "468    Aspect-Oriented Summarization of News Documents   \n",
       "469  A Simple and Strong Baseline for Monolingual a...   \n",
       "\n",
       "                                              Abstract  \\\n",
       "0    Constituency parsing is an important task of i...   \n",
       "1    We present a new corpus of word-level listenin...   \n",
       "2    Over the last ﬁfty years, the “Big Five” model...   \n",
       "3    Many machine translation (MT) evaluation  metr...   \n",
       "4    Writing in English might be one of the most  d...   \n",
       "..                                                 ...   \n",
       "465  While large language models have shown excitin...   \n",
       "466  There has been growing interest in parameter-e...   \n",
       "467  Evaluating Natural Language Generation (NLG) s...   \n",
       "468  Generic summaries try to cover an entire docum...   \n",
       "469  Neural models for distantly supervised relatio...   \n",
       "\n",
       "                                               Heading  acronym_tok_len  \\\n",
       "0    ICON: Building a Large-Scale Benchmark Constit...                2   \n",
       "1    ArCADE: An Arabic Corpus of Auditory Dictation...                3   \n",
       "2       PERSONAGE: Personality Generation for Dialogue                4   \n",
       "3    PORT: a Precision-Order-Recall MT Evaluation M...                2   \n",
       "4    FLOW: A First-Language-Oriented Writing Assist...                2   \n",
       "..                                                 ...              ...   \n",
       "465  ePiC: Employing Proverbs in Context as a Bench...                5   \n",
       "466  SPoT: Better Frozen Model Adaptation through S...                3   \n",
       "467  RoMe: A Robust Metric for Evaluating Natural L...                3   \n",
       "468  ASPECTNEWS: Aspect-Oriented Summarization of N...                5   \n",
       "469  PARE: A Simple and Strong Baseline for Monolin...                2   \n",
       "\n",
       "     acronym_len  description_tok_len  abstract_tok_len  total_len  \\\n",
       "0              4                   19               234        257   \n",
       "1              6                   14               129        149   \n",
       "2              9                    6               162        177   \n",
       "3              4                   17               240        261   \n",
       "4              4                   14               110        128   \n",
       "..           ...                  ...               ...        ...   \n",
       "465            4                   17               176        197   \n",
       "466            4                   14               277        295   \n",
       "467            4                   13               232        249   \n",
       "468           10                   13               264        287   \n",
       "469            4                   21               191        216   \n",
       "\n",
       "     wordlikeness  lcsratio  wordcoverage  \n",
       "0        1.000000       1.0      1.000000  \n",
       "1        1.000000       1.0      1.000000  \n",
       "2        0.888889       1.0      0.875000  \n",
       "3        1.000000       1.0      1.000000  \n",
       "4        1.000000       1.0      1.000000  \n",
       "..            ...       ...           ...  \n",
       "465      1.000000       1.0      1.000000  \n",
       "466      1.000000       1.0      1.000000  \n",
       "467      1.000000       1.0      1.000000  \n",
       "468      0.900000       1.0      0.823529  \n",
       "469      1.000000       1.0      0.888889  \n",
       "\n",
       "[470 rows x 14 columns]"
      ]
     },
     "execution_count": 24,
     "metadata": {},
     "output_type": "execute_result"
    }
   ],
   "source": [
    "filtered_dataframe"
   ]
  },
  {
   "cell_type": "markdown",
   "metadata": {},
   "source": [
    "## Save the data"
   ]
  },
  {
   "cell_type": "code",
   "execution_count": 27,
   "metadata": {},
   "outputs": [],
   "source": [
    "output_dataframe = masked_single_word_combined_dataframe[['Year', 'Venue', 'Acronym', 'Description', 'Abstract', 'wordlikeness', 'lcsratio', 'wordcoverage']].reset_index(drop=True)\n",
    "filtered_dataframe = filtered_dataframe[['Year', 'Venue', 'Acronym', 'Description', 'Abstract', 'wordlikeness', 'lcsratio', 'wordcoverage']].reset_index(drop=True)\n",
    "output_dataframe.to_json(\"../data/single_word_with_replacement.jsonl\", orient=\"records\", lines=True)\n",
    "filtered_dataframe.to_json(\"../data/single_word_with_replacement_filtered.jsonl\", orient=\"records\", lines=True)"
   ]
  },
  {
   "cell_type": "code",
   "execution_count": 28,
   "metadata": {},
   "outputs": [
    {
     "data": {
      "text/html": [
       "<div>\n",
       "<style scoped>\n",
       "    .dataframe tbody tr th:only-of-type {\n",
       "        vertical-align: middle;\n",
       "    }\n",
       "\n",
       "    .dataframe tbody tr th {\n",
       "        vertical-align: top;\n",
       "    }\n",
       "\n",
       "    .dataframe thead th {\n",
       "        text-align: right;\n",
       "    }\n",
       "</style>\n",
       "<table border=\"1\" class=\"dataframe\">\n",
       "  <thead>\n",
       "    <tr style=\"text-align: right;\">\n",
       "      <th></th>\n",
       "      <th>Year</th>\n",
       "      <th>Venue</th>\n",
       "      <th>Acronym</th>\n",
       "      <th>Description</th>\n",
       "      <th>Abstract</th>\n",
       "      <th>Heading</th>\n",
       "      <th>acronym_tok_len</th>\n",
       "      <th>acronym_len</th>\n",
       "      <th>description_tok_len</th>\n",
       "      <th>abstract_tok_len</th>\n",
       "      <th>total_len</th>\n",
       "      <th>wordlikeness</th>\n",
       "      <th>lcsratio</th>\n",
       "      <th>wordcoverage</th>\n",
       "    </tr>\n",
       "  </thead>\n",
       "  <tbody>\n",
       "    <tr>\n",
       "      <th>0</th>\n",
       "      <td>2003</td>\n",
       "      <td>iwpt-2003</td>\n",
       "      <td>Supertagging</td>\n",
       "      <td>A Non-Statistical Parsing-Based Approach</td>\n",
       "      <td>We present a novel approach to supertagging w....</td>\n",
       "      <td>Supertagging: A Non-Statistical Parsing-Based ...</td>\n",
       "      <td>3</td>\n",
       "      <td>12</td>\n",
       "      <td>10</td>\n",
       "      <td>161</td>\n",
       "      <td>183</td>\n",
       "      <td>0.833333</td>\n",
       "      <td>0.500000</td>\n",
       "      <td>0.736842</td>\n",
       "    </tr>\n",
       "    <tr>\n",
       "      <th>1</th>\n",
       "      <td>2020</td>\n",
       "      <td>iwltp-2020</td>\n",
       "      <td>CoBiLiRo</td>\n",
       "      <td>A Research Platform for Bimodal Corpora</td>\n",
       "      <td>This paper describes the on-going work carried...</td>\n",
       "      <td>CoBiLiRo: A Research Platform for Bimodal Corpora</td>\n",
       "      <td>7</td>\n",
       "      <td>8</td>\n",
       "      <td>9</td>\n",
       "      <td>246</td>\n",
       "      <td>263</td>\n",
       "      <td>0.500000</td>\n",
       "      <td>0.875000</td>\n",
       "      <td>0.666667</td>\n",
       "    </tr>\n",
       "    <tr>\n",
       "      <th>2</th>\n",
       "      <td>2020</td>\n",
       "      <td>iwltp-2020</td>\n",
       "      <td>CLARIN</td>\n",
       "      <td>Distributed Language Resources and Technology ...</td>\n",
       "      <td>&lt;MASKED_ACRONYM&gt; is a European Research Infras...</td>\n",
       "      <td>CLARIN: Distributed Language Resources and Tec...</td>\n",
       "      <td>3</td>\n",
       "      <td>6</td>\n",
       "      <td>11</td>\n",
       "      <td>183</td>\n",
       "      <td>200</td>\n",
       "      <td>0.833333</td>\n",
       "      <td>1.000000</td>\n",
       "      <td>0.857143</td>\n",
       "    </tr>\n",
       "    <tr>\n",
       "      <th>3</th>\n",
       "      <td>2020</td>\n",
       "      <td>iwltp-2020</td>\n",
       "      <td>ELRI</td>\n",
       "      <td>A Decentralised Network of National Relay Stat...</td>\n",
       "      <td>We describe the European Language Resource Inf...</td>\n",
       "      <td>ELRI: A Decentralised Network of National Rela...</td>\n",
       "      <td>3</td>\n",
       "      <td>4</td>\n",
       "      <td>20</td>\n",
       "      <td>140</td>\n",
       "      <td>164</td>\n",
       "      <td>0.250000</td>\n",
       "      <td>1.000000</td>\n",
       "      <td>0.857143</td>\n",
       "    </tr>\n",
       "    <tr>\n",
       "      <th>4</th>\n",
       "      <td>2013</td>\n",
       "      <td>law-2013</td>\n",
       "      <td>Entailment</td>\n",
       "      <td>An Effective Metric for Comparing and Evaluati...</td>\n",
       "      <td>Hierarchical or nested annotation of linguisti...</td>\n",
       "      <td>Entailment: An Effective Metric for Comparing ...</td>\n",
       "      <td>3</td>\n",
       "      <td>10</td>\n",
       "      <td>25</td>\n",
       "      <td>134</td>\n",
       "      <td>169</td>\n",
       "      <td>0.800000</td>\n",
       "      <td>0.900000</td>\n",
       "      <td>0.857143</td>\n",
       "    </tr>\n",
       "    <tr>\n",
       "      <th>...</th>\n",
       "      <td>...</td>\n",
       "      <td>...</td>\n",
       "      <td>...</td>\n",
       "      <td>...</td>\n",
       "      <td>...</td>\n",
       "      <td>...</td>\n",
       "      <td>...</td>\n",
       "      <td>...</td>\n",
       "      <td>...</td>\n",
       "      <td>...</td>\n",
       "      <td>...</td>\n",
       "      <td>...</td>\n",
       "      <td>...</td>\n",
       "      <td>...</td>\n",
       "    </tr>\n",
       "    <tr>\n",
       "      <th>6797</th>\n",
       "      <td>2022</td>\n",
       "      <td>acl-2022</td>\n",
       "      <td>SocioFillmore</td>\n",
       "      <td>A Tool for Discovering Perspectives</td>\n",
       "      <td>SOCIOFILLMORE is a multilingual tool which hel...</td>\n",
       "      <td>SocioFillmore: A Tool for Discovering Perspect...</td>\n",
       "      <td>5</td>\n",
       "      <td>13</td>\n",
       "      <td>7</td>\n",
       "      <td>143</td>\n",
       "      <td>163</td>\n",
       "      <td>0.846154</td>\n",
       "      <td>0.538462</td>\n",
       "      <td>0.636364</td>\n",
       "    </tr>\n",
       "    <tr>\n",
       "      <th>6798</th>\n",
       "      <td>2022</td>\n",
       "      <td>acl-2022</td>\n",
       "      <td>TimeLMs</td>\n",
       "      <td>Diachronic Language Models from Twitter</td>\n",
       "      <td>Despite its importance, the time variable has ...</td>\n",
       "      <td>TimeLMs: Diachronic Language Models from Twitter</td>\n",
       "      <td>3</td>\n",
       "      <td>7</td>\n",
       "      <td>8</td>\n",
       "      <td>152</td>\n",
       "      <td>167</td>\n",
       "      <td>0.571429</td>\n",
       "      <td>0.714286</td>\n",
       "      <td>0.833333</td>\n",
       "    </tr>\n",
       "    <tr>\n",
       "      <th>6799</th>\n",
       "      <td>2022</td>\n",
       "      <td>acl-2022</td>\n",
       "      <td>Adaptor</td>\n",
       "      <td>Objective-Centric Adaptation Framework for Lan...</td>\n",
       "      <td>This paper introduces &lt;MASKED_ACRONYM&gt; library...</td>\n",
       "      <td>Adaptor: Objective-Centric Adaptation Framewor...</td>\n",
       "      <td>3</td>\n",
       "      <td>7</td>\n",
       "      <td>13</td>\n",
       "      <td>119</td>\n",
       "      <td>139</td>\n",
       "      <td>0.857143</td>\n",
       "      <td>1.000000</td>\n",
       "      <td>0.857143</td>\n",
       "    </tr>\n",
       "    <tr>\n",
       "      <th>6800</th>\n",
       "      <td>2022</td>\n",
       "      <td>acl-2022</td>\n",
       "      <td>QuickGraph</td>\n",
       "      <td>A Rapid Annotation Tool for Knowledge Graph Ex...</td>\n",
       "      <td>Acquiring high-quality annotated corpora for c...</td>\n",
       "      <td>QuickGraph: A Rapid Annotation Tool for Knowle...</td>\n",
       "      <td>2</td>\n",
       "      <td>10</td>\n",
       "      <td>15</td>\n",
       "      <td>178</td>\n",
       "      <td>203</td>\n",
       "      <td>0.900000</td>\n",
       "      <td>0.700000</td>\n",
       "      <td>0.705882</td>\n",
       "    </tr>\n",
       "    <tr>\n",
       "      <th>6801</th>\n",
       "      <td>2018</td>\n",
       "      <td>jeptalnrecital-2018</td>\n",
       "      <td>FinSentiA</td>\n",
       "      <td>Sentiment Analysis in English Financial Microb...</td>\n",
       "      <td>&lt;MASKED_ACRONYM&gt;: Sentiment Analysis in Englis...</td>\n",
       "      <td>FinSentiA: Sentiment Analysis in English Finan...</td>\n",
       "      <td>5</td>\n",
       "      <td>9</td>\n",
       "      <td>10</td>\n",
       "      <td>135</td>\n",
       "      <td>154</td>\n",
       "      <td>0.666667</td>\n",
       "      <td>0.777778</td>\n",
       "      <td>0.700000</td>\n",
       "    </tr>\n",
       "  </tbody>\n",
       "</table>\n",
       "<p>6653 rows × 14 columns</p>\n",
       "</div>"
      ],
      "text/plain": [
       "      Year                Venue        Acronym  \\\n",
       "0     2003            iwpt-2003   Supertagging   \n",
       "1     2020           iwltp-2020       CoBiLiRo   \n",
       "2     2020           iwltp-2020         CLARIN   \n",
       "3     2020           iwltp-2020           ELRI   \n",
       "4     2013             law-2013     Entailment   \n",
       "...    ...                  ...            ...   \n",
       "6797  2022             acl-2022  SocioFillmore   \n",
       "6798  2022             acl-2022        TimeLMs   \n",
       "6799  2022             acl-2022        Adaptor   \n",
       "6800  2022             acl-2022     QuickGraph   \n",
       "6801  2018  jeptalnrecital-2018      FinSentiA   \n",
       "\n",
       "                                            Description  \\\n",
       "0              A Non-Statistical Parsing-Based Approach   \n",
       "1               A Research Platform for Bimodal Corpora   \n",
       "2     Distributed Language Resources and Technology ...   \n",
       "3     A Decentralised Network of National Relay Stat...   \n",
       "4     An Effective Metric for Comparing and Evaluati...   \n",
       "...                                                 ...   \n",
       "6797                A Tool for Discovering Perspectives   \n",
       "6798            Diachronic Language Models from Twitter   \n",
       "6799  Objective-Centric Adaptation Framework for Lan...   \n",
       "6800  A Rapid Annotation Tool for Knowledge Graph Ex...   \n",
       "6801  Sentiment Analysis in English Financial Microb...   \n",
       "\n",
       "                                               Abstract  \\\n",
       "0     We present a novel approach to supertagging w....   \n",
       "1     This paper describes the on-going work carried...   \n",
       "2     <MASKED_ACRONYM> is a European Research Infras...   \n",
       "3     We describe the European Language Resource Inf...   \n",
       "4     Hierarchical or nested annotation of linguisti...   \n",
       "...                                                 ...   \n",
       "6797  SOCIOFILLMORE is a multilingual tool which hel...   \n",
       "6798  Despite its importance, the time variable has ...   \n",
       "6799  This paper introduces <MASKED_ACRONYM> library...   \n",
       "6800  Acquiring high-quality annotated corpora for c...   \n",
       "6801  <MASKED_ACRONYM>: Sentiment Analysis in Englis...   \n",
       "\n",
       "                                                Heading  acronym_tok_len  \\\n",
       "0     Supertagging: A Non-Statistical Parsing-Based ...                3   \n",
       "1     CoBiLiRo: A Research Platform for Bimodal Corpora                7   \n",
       "2     CLARIN: Distributed Language Resources and Tec...                3   \n",
       "3     ELRI: A Decentralised Network of National Rela...                3   \n",
       "4     Entailment: An Effective Metric for Comparing ...                3   \n",
       "...                                                 ...              ...   \n",
       "6797  SocioFillmore: A Tool for Discovering Perspect...                5   \n",
       "6798   TimeLMs: Diachronic Language Models from Twitter                3   \n",
       "6799  Adaptor: Objective-Centric Adaptation Framewor...                3   \n",
       "6800  QuickGraph: A Rapid Annotation Tool for Knowle...                2   \n",
       "6801  FinSentiA: Sentiment Analysis in English Finan...                5   \n",
       "\n",
       "      acronym_len  description_tok_len  abstract_tok_len  total_len  \\\n",
       "0              12                   10               161        183   \n",
       "1               8                    9               246        263   \n",
       "2               6                   11               183        200   \n",
       "3               4                   20               140        164   \n",
       "4              10                   25               134        169   \n",
       "...           ...                  ...               ...        ...   \n",
       "6797           13                    7               143        163   \n",
       "6798            7                    8               152        167   \n",
       "6799            7                   13               119        139   \n",
       "6800           10                   15               178        203   \n",
       "6801            9                   10               135        154   \n",
       "\n",
       "      wordlikeness  lcsratio  wordcoverage  \n",
       "0         0.833333  0.500000      0.736842  \n",
       "1         0.500000  0.875000      0.666667  \n",
       "2         0.833333  1.000000      0.857143  \n",
       "3         0.250000  1.000000      0.857143  \n",
       "4         0.800000  0.900000      0.857143  \n",
       "...            ...       ...           ...  \n",
       "6797      0.846154  0.538462      0.636364  \n",
       "6798      0.571429  0.714286      0.833333  \n",
       "6799      0.857143  1.000000      0.857143  \n",
       "6800      0.900000  0.700000      0.705882  \n",
       "6801      0.666667  0.777778      0.700000  \n",
       "\n",
       "[6653 rows x 14 columns]"
      ]
     },
     "execution_count": 28,
     "metadata": {},
     "output_type": "execute_result"
    }
   ],
   "source": [
    "masked_single_word_combined_dataframe"
   ]
  },
  {
   "cell_type": "code",
   "execution_count": null,
   "metadata": {},
   "outputs": [],
   "source": [
    "from sklearn.model_selection import train_test_split\n",
    "\n",
    "train_data, val_test_data = train_test_split(output_dataframe, random_state=42, test_size=1653)\n",
    "val_data, test_data = train_test_split(val_test_data, random_state=42, test_size=1000)"
   ]
  },
  {
   "cell_type": "code",
   "execution_count": null,
   "metadata": {},
   "outputs": [],
   "source": [
    "train_data.to_json(\"../data/single_word_with_replacement_train.jsonl\", lines=True, orient=\"records\")\n",
    "val_data.to_json(\"../data/single_word_with_replacement_val.jsonl\", lines=True, orient=\"records\")\n",
    "test_data.to_json(\"../data/single_word_with_replacement_test.jsonl\", lines=True, orient=\"records\")"
   ]
  }
 ],
 "metadata": {
  "kernelspec": {
   "display_name": "em-condisa",
   "language": "python",
   "name": "python3"
  },
  "language_info": {
   "codemirror_mode": {
    "name": "ipython",
    "version": 3
   },
   "file_extension": ".py",
   "mimetype": "text/x-python",
   "name": "python",
   "nbconvert_exporter": "python",
   "pygments_lexer": "ipython3",
   "version": "3.8.18"
  }
 },
 "nbformat": 4,
 "nbformat_minor": 2
}
